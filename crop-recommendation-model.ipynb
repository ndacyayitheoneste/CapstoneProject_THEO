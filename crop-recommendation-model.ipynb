{
 "cells": [
  {
   "cell_type": "code",
   "execution_count": 1,
   "id": "d339debd",
   "metadata": {
    "_cell_guid": "b1076dfc-b9ad-4769-8c92-a6c4dae69d19",
    "_uuid": "8f2839f25d086af736a60e9eeb907d3b93b6e0e5",
    "execution": {
     "iopub.execute_input": "2024-05-07T19:04:39.846995Z",
     "iopub.status.busy": "2024-05-07T19:04:39.845966Z",
     "iopub.status.idle": "2024-05-07T19:04:42.679310Z",
     "shell.execute_reply": "2024-05-07T19:04:42.678327Z"
    },
    "papermill": {
     "duration": 2.847044,
     "end_time": "2024-05-07T19:04:42.681967",
     "exception": false,
     "start_time": "2024-05-07T19:04:39.834923",
     "status": "completed"
    },
    "tags": []
   },
   "source": [
    "import pandas as pd\n",
    "import numpy as np\n",
    "import matplotlib.pyplot as plt\n",
    "import seaborn as sns\n",
    "from sklearn.model_selection import train_test_split\n",
    "from sklearn.tree import DecisionTreeClassifier\n",
    "from sklearn.neighbors import KNeighborsClassifier\n",
    "from sklearn.ensemble import RandomForestClassifier\n",
    "from sklearn.preprocessing import LabelEncoder\n",
    "from sklearn.preprocessing import StandardScaler\n",
    "from sklearn.metrics import confusion_matrix\n",
    "from sklearn.metrics import accuracy_score\n",
    "from sklearn.metrics import classification_report"
   ],
   "outputs": []
  },
  {
   "cell_type": "code",
   "execution_count": 2,
   "id": "066df80d",
   "metadata": {
    "execution": {
     "iopub.execute_input": "2024-05-07T19:04:42.701947Z",
     "iopub.status.busy": "2024-05-07T19:04:42.700822Z",
     "iopub.status.idle": "2024-05-07T19:04:42.766231Z",
     "shell.execute_reply": "2024-05-07T19:04:42.765123Z"
    },
    "papermill": {
     "duration": 0.077855,
     "end_time": "2024-05-07T19:04:42.768620",
     "exception": false,
     "start_time": "2024-05-07T19:04:42.690765",
     "status": "completed"
    },
    "tags": []
   },
   "source": [
    "df = pd.read_csv(\"/kaggle/input/crop-recommendation-dataset/Crop_recommendation.csv\")\n",
    "df"
   ],
   "outputs": []
  },
  {
   "cell_type": "code",
   "execution_count": 3,
   "id": "765b87ea",
   "metadata": {
    "execution": {
     "iopub.execute_input": "2024-05-07T19:04:42.788415Z",
     "iopub.status.busy": "2024-05-07T19:04:42.787690Z",
     "iopub.status.idle": "2024-05-07T19:04:42.811925Z",
     "shell.execute_reply": "2024-05-07T19:04:42.810871Z"
    },
    "papermill": {
     "duration": 0.037148,
     "end_time": "2024-05-07T19:04:42.814643",
     "exception": false,
     "start_time": "2024-05-07T19:04:42.777495",
     "status": "completed"
    },
    "tags": []
   },
   "source": [
    "df.info()"
   ],
   "outputs": []
  },
  {
   "cell_type": "code",
   "execution_count": 4,
   "id": "e2539015",
   "metadata": {
    "execution": {
     "iopub.execute_input": "2024-05-07T19:04:42.834693Z",
     "iopub.status.busy": "2024-05-07T19:04:42.833817Z",
     "iopub.status.idle": "2024-05-07T19:04:42.843224Z",
     "shell.execute_reply": "2024-05-07T19:04:42.842114Z"
    },
    "papermill": {
     "duration": 0.021799,
     "end_time": "2024-05-07T19:04:42.845408",
     "exception": false,
     "start_time": "2024-05-07T19:04:42.823609",
     "status": "completed"
    },
    "tags": []
   },
   "source": [
    "df.isna().sum()"
   ],
   "outputs": []
  },
  {
   "cell_type": "code",
   "execution_count": 5,
   "id": "56b2d05b",
   "metadata": {
    "execution": {
     "iopub.execute_input": "2024-05-07T19:04:42.865758Z",
     "iopub.status.busy": "2024-05-07T19:04:42.865360Z",
     "iopub.status.idle": "2024-05-07T19:04:42.897818Z",
     "shell.execute_reply": "2024-05-07T19:04:42.896627Z"
    },
    "papermill": {
     "duration": 0.045687,
     "end_time": "2024-05-07T19:04:42.900421",
     "exception": false,
     "start_time": "2024-05-07T19:04:42.854734",
     "status": "completed"
    },
    "tags": []
   },
   "source": [
    "df.describe()"
   ],
   "outputs": []
  },
  {
   "cell_type": "code",
   "execution_count": 6,
   "id": "32c6594c",
   "metadata": {
    "execution": {
     "iopub.execute_input": "2024-05-07T19:04:42.921848Z",
     "iopub.status.busy": "2024-05-07T19:04:42.921423Z",
     "iopub.status.idle": "2024-05-07T19:04:42.928277Z",
     "shell.execute_reply": "2024-05-07T19:04:42.927137Z"
    },
    "papermill": {
     "duration": 0.020515,
     "end_time": "2024-05-07T19:04:42.930599",
     "exception": false,
     "start_time": "2024-05-07T19:04:42.910084",
     "status": "completed"
    },
    "tags": []
   },
   "source": [
    "df.columns"
   ],
   "outputs": []
  },
  {
   "cell_type": "code",
   "execution_count": 7,
   "id": "e659b55a",
   "metadata": {
    "execution": {
     "iopub.execute_input": "2024-05-07T19:04:42.951694Z",
     "iopub.status.busy": "2024-05-07T19:04:42.951300Z",
     "iopub.status.idle": "2024-05-07T19:04:42.958795Z",
     "shell.execute_reply": "2024-05-07T19:04:42.957624Z"
    },
    "papermill": {
     "duration": 0.020907,
     "end_time": "2024-05-07T19:04:42.961213",
     "exception": false,
     "start_time": "2024-05-07T19:04:42.940306",
     "status": "completed"
    },
    "tags": []
   },
   "source": [
    "df['label'].unique()"
   ],
   "outputs": []
  },
  {
   "cell_type": "code",
   "execution_count": 8,
   "id": "43c623d8",
   "metadata": {
    "execution": {
     "iopub.execute_input": "2024-05-07T19:04:42.983902Z",
     "iopub.status.busy": "2024-05-07T19:04:42.982976Z",
     "iopub.status.idle": "2024-05-07T19:04:42.990191Z",
     "shell.execute_reply": "2024-05-07T19:04:42.988928Z"
    },
    "papermill": {
     "duration": 0.021502,
     "end_time": "2024-05-07T19:04:42.992414",
     "exception": false,
     "start_time": "2024-05-07T19:04:42.970912",
     "status": "completed"
    },
    "tags": []
   },
   "source": [
    "df.shape"
   ],
   "outputs": []
  },
  {
   "cell_type": "code",
   "execution_count": 9,
   "id": "4bfea3c9",
   "metadata": {
    "execution": {
     "iopub.execute_input": "2024-05-07T19:04:43.014767Z",
     "iopub.status.busy": "2024-05-07T19:04:43.013714Z",
     "iopub.status.idle": "2024-05-07T19:05:28.874362Z",
     "shell.execute_reply": "2024-05-07T19:05:28.873128Z"
    },
    "papermill": {
     "duration": 45.941558,
     "end_time": "2024-05-07T19:05:28.943918",
     "exception": false,
     "start_time": "2024-05-07T19:04:43.002360",
     "status": "completed"
    },
    "tags": []
   },
   "source": [
    "sns.pairplot(data=df,hue='label')\n",
    "plt.show()"
   ],
   "outputs": []
  },
  {
   "cell_type": "code",
   "execution_count": 10,
   "id": "182dc548",
   "metadata": {
    "execution": {
     "iopub.execute_input": "2024-05-07T19:05:29.028133Z",
     "iopub.status.busy": "2024-05-07T19:05:29.027005Z",
     "iopub.status.idle": "2024-05-07T19:05:29.531180Z",
     "shell.execute_reply": "2024-05-07T19:05:29.529969Z"
    },
    "papermill": {
     "duration": 0.549135,
     "end_time": "2024-05-07T19:05:29.533773",
     "exception": false,
     "start_time": "2024-05-07T19:05:28.984638",
     "status": "completed"
    },
    "tags": []
   },
   "source": [
    "numeric_df = df.drop(['label'],axis=1)\n",
    "figure=plt.figure(figsize=(12,6))\n",
    "sns.heatmap(numeric_df.corr(),annot=True,)"
   ],
   "outputs": []
  },
  {
   "cell_type": "code",
   "execution_count": 11,
   "id": "8ec678e9",
   "metadata": {
    "execution": {
     "iopub.execute_input": "2024-05-07T19:05:29.620121Z",
     "iopub.status.busy": "2024-05-07T19:05:29.619233Z",
     "iopub.status.idle": "2024-05-07T19:05:29.638880Z",
     "shell.execute_reply": "2024-05-07T19:05:29.637721Z"
    },
    "papermill": {
     "duration": 0.065759,
     "end_time": "2024-05-07T19:05:29.641429",
     "exception": false,
     "start_time": "2024-05-07T19:05:29.575670",
     "status": "completed"
    },
    "tags": []
   },
   "source": [
    "le = LabelEncoder()\n",
    "df['label'] = le.fit_transform(df['label'])\n",
    "df"
   ],
   "outputs": []
  },
  {
   "cell_type": "code",
   "execution_count": 12,
   "id": "88133e98",
   "metadata": {
    "execution": {
     "iopub.execute_input": "2024-05-07T19:05:29.728023Z",
     "iopub.status.busy": "2024-05-07T19:05:29.727056Z",
     "iopub.status.idle": "2024-05-07T19:05:29.736844Z",
     "shell.execute_reply": "2024-05-07T19:05:29.735646Z"
    },
    "papermill": {
     "duration": 0.05592,
     "end_time": "2024-05-07T19:05:29.739239",
     "exception": false,
     "start_time": "2024-05-07T19:05:29.683319",
     "status": "completed"
    },
    "tags": []
   },
   "source": [
    "class_labels = df['label'].unique().tolist()\n",
    "class_labels = le.classes_\n",
    "class_labels"
   ],
   "outputs": []
  },
  {
   "cell_type": "code",
   "execution_count": 13,
   "id": "9cfbb881",
   "metadata": {
    "execution": {
     "iopub.execute_input": "2024-05-07T19:05:29.825736Z",
     "iopub.status.busy": "2024-05-07T19:05:29.825314Z",
     "iopub.status.idle": "2024-05-07T19:05:29.831687Z",
     "shell.execute_reply": "2024-05-07T19:05:29.830556Z"
    },
    "papermill": {
     "duration": 0.054149,
     "end_time": "2024-05-07T19:05:29.835419",
     "exception": false,
     "start_time": "2024-05-07T19:05:29.781270",
     "status": "completed"
    },
    "tags": []
   },
   "source": [
    "label_dict = {}\n",
    "for index,label in enumerate(class_labels):\n",
    "    label_dict[label] = index\n",
    "    \n",
    "print(label_dict)"
   ],
   "outputs": []
  },
  {
   "cell_type": "code",
   "execution_count": 14,
   "id": "b00ba5a3",
   "metadata": {
    "execution": {
     "iopub.execute_input": "2024-05-07T19:05:29.922046Z",
     "iopub.status.busy": "2024-05-07T19:05:29.921621Z",
     "iopub.status.idle": "2024-05-07T19:05:29.927036Z",
     "shell.execute_reply": "2024-05-07T19:05:29.925807Z"
    },
    "papermill": {
     "duration": 0.051509,
     "end_time": "2024-05-07T19:05:29.929555",
     "exception": false,
     "start_time": "2024-05-07T19:05:29.878046",
     "status": "completed"
    },
    "tags": []
   },
   "source": [
    "acc = []\n",
    "model = []"
   ],
   "outputs": []
  },
  {
   "cell_type": "code",
   "execution_count": 15,
   "id": "e4d3de48",
   "metadata": {
    "execution": {
     "iopub.execute_input": "2024-05-07T19:05:30.018468Z",
     "iopub.status.busy": "2024-05-07T19:05:30.018025Z",
     "iopub.status.idle": "2024-05-07T19:05:30.029038Z",
     "shell.execute_reply": "2024-05-07T19:05:30.028011Z"
    },
    "papermill": {
     "duration": 0.059392,
     "end_time": "2024-05-07T19:05:30.031834",
     "exception": false,
     "start_time": "2024-05-07T19:05:29.972442",
     "status": "completed"
    },
    "tags": []
   },
   "source": [
    "x = df.drop('label',axis=1)\n",
    "y = df['label']\n",
    "x_train,x_test,y_train,y_test = train_test_split(x,y,test_size=0.1,shuffle=True ,random_state=42)"
   ],
   "outputs": []
  },
  {
   "cell_type": "code",
   "execution_count": 16,
   "id": "d58da5ea",
   "metadata": {
    "execution": {
     "iopub.execute_input": "2024-05-07T19:05:30.118695Z",
     "iopub.status.busy": "2024-05-07T19:05:30.118124Z",
     "iopub.status.idle": "2024-05-07T19:05:30.131444Z",
     "shell.execute_reply": "2024-05-07T19:05:30.130415Z"
    },
    "papermill": {
     "duration": 0.060202,
     "end_time": "2024-05-07T19:05:30.134050",
     "exception": false,
     "start_time": "2024-05-07T19:05:30.073848",
     "status": "completed"
    },
    "tags": []
   },
   "source": [
    "scaler=StandardScaler()\n",
    "x_train=scaler.fit_transform(x_train)\n",
    "x_train=pd.DataFrame(x_train,columns=x.columns)\n",
    "x_train,x_test,y_train,y_test = train_test_split(x,y,test_size=0.1,shuffle=True ,random_state=42)"
   ],
   "outputs": []
  },
  {
   "cell_type": "code",
   "execution_count": 17,
   "id": "8d184bc1",
   "metadata": {
    "execution": {
     "iopub.execute_input": "2024-05-07T19:05:30.220304Z",
     "iopub.status.busy": "2024-05-07T19:05:30.219683Z",
     "iopub.status.idle": "2024-05-07T19:05:30.806381Z",
     "shell.execute_reply": "2024-05-07T19:05:30.805240Z"
    },
    "papermill": {
     "duration": 0.633054,
     "end_time": "2024-05-07T19:05:30.808933",
     "exception": false,
     "start_time": "2024-05-07T19:05:30.175879",
     "status": "completed"
    },
    "tags": []
   },
   "source": [
    "rf_model = RandomForestClassifier(random_state=42)\n",
    "rf_model.fit(x_train,y_train)\n",
    "y_pred = rf_model.predict(x_test)\n",
    "rf_model.score(x_train,y_train),rf_model.score(x_test,y_test)"
   ],
   "outputs": []
  },
  {
   "cell_type": "code",
   "execution_count": 18,
   "id": "8cbbdd63",
   "metadata": {
    "execution": {
     "iopub.execute_input": "2024-05-07T19:05:30.896014Z",
     "iopub.status.busy": "2024-05-07T19:05:30.895605Z",
     "iopub.status.idle": "2024-05-07T19:05:30.917361Z",
     "shell.execute_reply": "2024-05-07T19:05:30.916152Z"
    },
    "papermill": {
     "duration": 0.068079,
     "end_time": "2024-05-07T19:05:30.919958",
     "exception": false,
     "start_time": "2024-05-07T19:05:30.851879",
     "status": "completed"
    },
    "tags": []
   },
   "source": [
    "accs = accuracy_score(y_pred, y_test)\n",
    "acc.append(accs)\n",
    "model.append('rf_model')\n",
    "print(\"Confusion Matrix:\\n\",confusion_matrix(y_test,y_pred))\n",
    "print(\"Classification Report:\\n\",classification_report(y_test,y_pred))\n",
    "print('.:. Random Forest Classifier:'+'\\033[1m {:.3f}%'.format(accs*100)+' .:.')"
   ],
   "outputs": []
  },
  {
   "cell_type": "code",
   "execution_count": 19,
   "id": "bd31ad2f",
   "metadata": {
    "execution": {
     "iopub.execute_input": "2024-05-07T19:05:31.005958Z",
     "iopub.status.busy": "2024-05-07T19:05:31.005554Z",
     "iopub.status.idle": "2024-05-07T19:05:31.035670Z",
     "shell.execute_reply": "2024-05-07T19:05:31.034548Z"
    },
    "papermill": {
     "duration": 0.076324,
     "end_time": "2024-05-07T19:05:31.038246",
     "exception": false,
     "start_time": "2024-05-07T19:05:30.961922",
     "status": "completed"
    },
    "tags": []
   },
   "source": [
    "dt_model = DecisionTreeClassifier(random_state=42)\n",
    "dt_model.fit(x_train,y_train)\n",
    "y_pred1 = dt_model.predict(x_test)\n",
    "dt_model.score(x_train,y_train),dt_model.score(x_test,y_test)"
   ],
   "outputs": []
  },
  {
   "cell_type": "code",
   "execution_count": 20,
   "id": "6e9c4c57",
   "metadata": {
    "execution": {
     "iopub.execute_input": "2024-05-07T19:05:31.126601Z",
     "iopub.status.busy": "2024-05-07T19:05:31.126190Z",
     "iopub.status.idle": "2024-05-07T19:05:31.148453Z",
     "shell.execute_reply": "2024-05-07T19:05:31.147196Z"
    },
    "papermill": {
     "duration": 0.069803,
     "end_time": "2024-05-07T19:05:31.151222",
     "exception": false,
     "start_time": "2024-05-07T19:05:31.081419",
     "status": "completed"
    },
    "tags": []
   },
   "source": [
    "accs1 = accuracy_score(y_pred1, y_test)\n",
    "acc.append(accs1)\n",
    "model.append('dt_model')\n",
    "print(\"Confusion Matrix:\\n\",confusion_matrix(y_test,y_pred1))\n",
    "print(\"Classification Report:\\n\",classification_report(y_test,y_pred1))\n",
    "print('.:. Decision Tree Classifier:'+'\\033[1m {:.3f}%'.format(accs*100)+' .:.')"
   ],
   "outputs": []
  },
  {
   "cell_type": "code",
   "execution_count": 21,
   "id": "b0f9cb49",
   "metadata": {
    "execution": {
     "iopub.execute_input": "2024-05-07T19:05:31.241803Z",
     "iopub.status.busy": "2024-05-07T19:05:31.240757Z",
     "iopub.status.idle": "2024-05-07T19:05:31.428974Z",
     "shell.execute_reply": "2024-05-07T19:05:31.427484Z"
    },
    "papermill": {
     "duration": 0.23841,
     "end_time": "2024-05-07T19:05:31.431873",
     "exception": false,
     "start_time": "2024-05-07T19:05:31.193463",
     "status": "completed"
    },
    "tags": []
   },
   "source": [
    "knn_model = KNeighborsClassifier()\n",
    "knn_model.fit(x_train,y_train)\n",
    "y_pred2 = knn_model.predict(x_test)\n",
    "knn_model.score(x_train,y_train),knn_model.score(x_test,y_test)"
   ],
   "outputs": []
  },
  {
   "cell_type": "code",
   "execution_count": 22,
   "id": "911d79fa",
   "metadata": {
    "execution": {
     "iopub.execute_input": "2024-05-07T19:05:31.521327Z",
     "iopub.status.busy": "2024-05-07T19:05:31.520376Z",
     "iopub.status.idle": "2024-05-07T19:05:31.542032Z",
     "shell.execute_reply": "2024-05-07T19:05:31.540854Z"
    },
    "papermill": {
     "duration": 0.070624,
     "end_time": "2024-05-07T19:05:31.544936",
     "exception": false,
     "start_time": "2024-05-07T19:05:31.474312",
     "status": "completed"
    },
    "tags": []
   },
   "source": [
    "accs2 = accuracy_score(y_pred2, y_test)\n",
    "acc.append(accs2)\n",
    "model.append('knn_model')\n",
    "print(\"Confusion Matrix:\\n\",confusion_matrix(y_test,y_pred2))\n",
    "print(\"Classification Report:\\n\",classification_report(y_test,y_pred2))\n",
    "print('.:. K Neighbors Classifier:'+'\\033[1m {:.3f}%'.format(accs2*100)+' .:.')"
   ],
   "outputs": []
  },
  {
   "cell_type": "code",
   "execution_count": 23,
   "id": "66e58bdd",
   "metadata": {
    "execution": {
     "iopub.execute_input": "2024-05-07T19:05:31.635361Z",
     "iopub.status.busy": "2024-05-07T19:05:31.633899Z",
     "iopub.status.idle": "2024-05-07T19:05:31.921624Z",
     "shell.execute_reply": "2024-05-07T19:05:31.920432Z"
    },
    "papermill": {
     "duration": 0.3356,
     "end_time": "2024-05-07T19:05:31.924339",
     "exception": false,
     "start_time": "2024-05-07T19:05:31.588739",
     "status": "completed"
    },
    "tags": []
   },
   "source": [
    "plt.figure(figsize=[10,5],dpi = 100)\n",
    "plt.title('Accuracy Comparison')\n",
    "plt.xlabel('Accuracy')\n",
    "plt.ylabel('Algorithm')\n",
    "sns.barplot(x = acc,y = model,palette='dark')"
   ],
   "outputs": []
  },
  {
   "cell_type": "code",
   "execution_count": 24,
   "id": "b616ea78",
   "metadata": {
    "execution": {
     "iopub.execute_input": "2024-05-07T19:05:32.034036Z",
     "iopub.status.busy": "2024-05-07T19:05:32.033295Z",
     "iopub.status.idle": "2024-05-07T19:05:32.053697Z",
     "shell.execute_reply": "2024-05-07T19:05:32.052345Z"
    },
    "papermill": {
     "duration": 0.086092,
     "end_time": "2024-05-07T19:05:32.056568",
     "exception": false,
     "start_time": "2024-05-07T19:05:31.970476",
     "status": "completed"
    },
    "tags": []
   },
   "source": [
    "features = np.array([[104,18, 30, 23.603016, 60.3, 6.7, 140.91]])\n",
    "Recommended_Crop = rf_model.predict(features)\n",
    "print(\"Recommended Crop:\",class_labels[Recommended_Crop])"
   ],
   "outputs": []
  },
  {
   "cell_type": "code",
   "execution_count": 25,
   "id": "e2139201",
   "metadata": {
    "execution": {
     "iopub.execute_input": "2024-05-07T19:05:32.158649Z",
     "iopub.status.busy": "2024-05-07T19:05:32.158251Z",
     "iopub.status.idle": "2024-05-07T19:05:32.257474Z",
     "shell.execute_reply": "2024-05-07T19:05:32.256211Z"
    },
    "papermill": {
     "duration": 0.156673,
     "end_time": "2024-05-07T19:05:32.260168",
     "exception": false,
     "start_time": "2024-05-07T19:05:32.103495",
     "status": "completed"
    },
    "tags": []
   },
   "source": [
    "import joblib\n",
    "\n",
    "# Assuming rf_model is your trained RandomForestClassifier model\n",
    "# Save the model to a file\n",
    "joblib.dump(rf_model, 'rf_model.pkl')\n",
    "\n"
   ],
   "outputs": []
  }
 ],
 "metadata": {
  "kaggle": {
   "accelerator": "none",
   "dataSources": [
    {
     "datasetId": 1046158,
     "sourceId": 1760012,
     "sourceType": "datasetVersion"
    }
   ],
   "dockerImageVersionId": 30698,
   "isGpuEnabled": false,
   "isInternetEnabled": true,
   "language": "python",
   "sourceType": "notebook"
  },
  "kernelspec": {
   "display_name": "Python 3 (ipykernel)",
   "language": "python",
   "name": "python3"
  },
  "language_info": {
   "codemirror_mode": {
    "name": "ipython",
    "version": 3
   },
   "file_extension": ".py",
   "mimetype": "text/x-python",
   "name": "python",
   "nbconvert_exporter": "python",
   "pygments_lexer": "ipython3",
   "version": "3.11.5"
  },
  "papermill": {
   "default_parameters": {},
   "duration": 56.429629,
   "end_time": "2024-05-07T19:05:33.235817",
   "environment_variables": {},
   "exception": null,
   "input_path": "__notebook__.ipynb",
   "output_path": "__notebook__.ipynb",
   "parameters": {},
   "start_time": "2024-05-07T19:04:36.806188",
   "version": "2.5.0"
  }
 },
 "nbformat": 4,
 "nbformat_minor": 5
}
