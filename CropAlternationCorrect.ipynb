{
 "cells": [
  {
   "cell_type": "code",
   "execution_count": 10,
   "id": "6748754b",
   "metadata": {},
   "source": [
    "import numpy as np\n",
    "import pandas as pd"
   ],
   "outputs": []
  },
  {
   "cell_type": "markdown",
   "id": "073254b9",
   "metadata": {},
   "source": [
    "# Importing Data"
   ]
  },
  {
   "cell_type": "code",
   "execution_count": 12,
   "id": "1a1a6f45",
   "metadata": {},
   "source": [
    "crop=pd.read_csv(\"Crop_recommendation.csv\")\n",
    "crop.head()"
   ],
   "outputs": []
  },
  {
   "cell_type": "code",
   "execution_count": null,
   "id": "11e0ec31",
   "metadata": {},
   "source": [],
   "outputs": []
  },
  {
   "cell_type": "markdown",
   "id": "e444b36d",
   "metadata": {},
   "source": [
    "# Asq Six Questions to your self"
   ]
  },
  {
   "cell_type": "code",
   "execution_count": 14,
   "id": "1e730e0f",
   "metadata": {},
   "source": [
    "crop.shape"
   ],
   "outputs": []
  },
  {
   "cell_type": "code",
   "execution_count": 15,
   "id": "877d8dfe",
   "metadata": {},
   "source": [
    "crop.info()"
   ],
   "outputs": []
  },
  {
   "cell_type": "code",
   "execution_count": 16,
   "id": "d756425e",
   "metadata": {},
   "source": [
    "crop.isnull().sum()"
   ],
   "outputs": []
  },
  {
   "cell_type": "code",
   "execution_count": 17,
   "id": "189e790d",
   "metadata": {},
   "source": [
    "crop.duplicated().sum()"
   ],
   "outputs": []
  },
  {
   "cell_type": "code",
   "execution_count": 18,
   "id": "bec651b4",
   "metadata": {},
   "source": [
    "crop.describe()"
   ],
   "outputs": []
  },
  {
   "cell_type": "code",
   "execution_count": null,
   "id": "23d9193c",
   "metadata": {},
   "source": [],
   "outputs": []
  },
  {
   "cell_type": "markdown",
   "id": "69307141",
   "metadata": {},
   "source": [
    "# Exploring Data"
   ]
  },
  {
   "cell_type": "code",
   "execution_count": 21,
   "id": "53f74f9e",
   "metadata": {},
   "source": [
    "import pandas as pd\n",
    "\n",
    "# Assuming crop is your DataFrame\n",
    "numeric_cols = crop.select_dtypes(include=[float, int])  # Select only numeric columns\n",
    "corr = numeric_cols.corr()  # Compute the correlation matrix\n",
    "\n",
    "print(corr)\n"
   ],
   "outputs": []
  },
  {
   "cell_type": "code",
   "execution_count": 23,
   "id": "2d2d094b",
   "metadata": {},
   "source": [
    "import seaborn as sns\n",
    "sns.heatmap(corr,annot=True,cbar=True, cmap='coolwarm')"
   ],
   "outputs": []
  },
  {
   "cell_type": "code",
   "execution_count": 25,
   "id": "b4e70ac7",
   "metadata": {},
   "source": [
    "crop['label'].value_counts()\n"
   ],
   "outputs": []
  },
  {
   "cell_type": "code",
   "execution_count": 26,
   "id": "c15352ae",
   "metadata": {},
   "source": [
    "import matplotlib.pyplot as plt\n",
    "sns.distplot(crop['N'])\n",
    "plt.show()"
   ],
   "outputs": []
  },
  {
   "cell_type": "code",
   "execution_count": 27,
   "id": "9ad2c719",
   "metadata": {},
   "source": [
    "import seaborn as sns\n",
    "import matplotlib.pyplot as plt\n",
    "\n",
    "sns.histplot(crop['N'], kde=True)  # kde=True adds the KDE line similar to distplot\n",
    "plt.show()"
   ],
   "outputs": []
  },
  {
   "cell_type": "markdown",
   "id": "b047e775",
   "metadata": {},
   "source": [
    "# Encoding"
   ]
  },
  {
   "cell_type": "code",
   "execution_count": 28,
   "id": "6ef0df61",
   "metadata": {},
   "source": [
    "crop_dict = {\n",
    "    'rice': 1,\n",
    "    'maize': 2,\n",
    "    'jute': 3,\n",
    "    'cotton': 4,\n",
    "    'coconut': 5,\n",
    "    'papaya': 6,\n",
    "    'orange': 7,\n",
    "    'apple': 8,\n",
    "    'muskmelon': 9,\n",
    "    'watermelon': 10,\n",
    "    'grapes': 11,\n",
    "    'mango': 12,\n",
    "    'banana': 13,\n",
    "    'pomegranate': 14,\n",
    "    'lentil': 15,\n",
    "    'blackgram': 16,\n",
    "    'mungbean': 17,\n",
    "    'mothbeans': 18,\n",
    "    'pigeonpeas': 19,\n",
    "    'kidneybeans': 20,\n",
    "    'chickpea': 21,\n",
    "    'coffee': 22\n",
    "}\n",
    "crop['crop_num']=crop['label'].map(crop_dict)"
   ],
   "outputs": []
  },
  {
   "cell_type": "code",
   "execution_count": 29,
   "id": "c35bab89",
   "metadata": {},
   "source": [
    "crop['crop_num'].value_counts()"
   ],
   "outputs": []
  },
  {
   "cell_type": "code",
   "execution_count": 35,
   "id": "3e7c8de7",
   "metadata": {},
   "source": [
    "#crop.drop(['label'], axis=1,inplace=True)\n",
    "crop.head()"
   ],
   "outputs": []
  },
  {
   "cell_type": "markdown",
   "id": "cd4a7fcf",
   "metadata": {},
   "source": [
    "# Train Test Split"
   ]
  },
  {
   "cell_type": "code",
   "execution_count": 50,
   "id": "6e57863b",
   "metadata": {},
   "source": [
    "x=crop.drop('crop_num',axis=1)\n",
    "y=crop['crop_num']"
   ],
   "outputs": []
  },
  {
   "cell_type": "code",
   "execution_count": 51,
   "id": "d9800053",
   "metadata": {
    "scrolled": true
   },
   "source": [
    "x"
   ],
   "outputs": []
  },
  {
   "cell_type": "code",
   "execution_count": 53,
   "id": "ea61ebd0",
   "metadata": {},
   "source": [
    "x.shape"
   ],
   "outputs": []
  },
  {
   "cell_type": "code",
   "execution_count": 54,
   "id": "b07f766d",
   "metadata": {},
   "source": [
    "y.shape"
   ],
   "outputs": []
  },
  {
   "cell_type": "code",
   "execution_count": 62,
   "id": "34fed4c2",
   "metadata": {},
   "source": [
    "from sklearn.model_selection import train_test_split"
   ],
   "outputs": []
  },
  {
   "cell_type": "code",
   "execution_count": 64,
   "id": "c1a454ec",
   "metadata": {},
   "source": [
    "# X_train, X_test, y_train, y_test = train_test_split(X, y, test_size=0.2, random_state=42)\n",
    "\n",
    "import pandas as pd\n",
    "from sklearn.model_selection import train_test_split\n",
    "\n",
    "# Example: Loading data from a CSV file\n",
    "data = pd.read_csv('Crop_recommendation.csv')\n",
    "\n",
    "# Define features and labels\n",
    "X = data.drop('temperature', axis=1)  # Replace 'target_column' with the name of your target column\n",
    "y = data['temperature']\n",
    "\n",
    "# Now split the data\n",
    "X_train, X_test, y_train, y_test = train_test_split(X, y, test_size=0.2, random_state=42)\n"
   ],
   "outputs": []
  },
  {
   "cell_type": "code",
   "execution_count": 65,
   "id": "3a18c487",
   "metadata": {},
   "source": [
    "X_train.shape"
   ],
   "outputs": []
  },
  {
   "cell_type": "code",
   "execution_count": 66,
   "id": "fc6990da",
   "metadata": {},
   "source": [
    "X_test.shape"
   ],
   "outputs": []
  },
  {
   "cell_type": "code",
   "execution_count": 67,
   "id": "40475e79",
   "metadata": {},
   "source": [
    "y_train.shape"
   ],
   "outputs": []
  },
  {
   "cell_type": "code",
   "execution_count": 68,
   "id": "5669100e",
   "metadata": {},
   "source": [
    " y_test.shape"
   ],
   "outputs": []
  },
  {
   "cell_type": "markdown",
   "id": "873b9f7f",
   "metadata": {},
   "source": [
    "# Scale the features using MinMaxScaler"
   ]
  },
  {
   "cell_type": "code",
   "execution_count": 83,
   "id": "9e506afc",
   "metadata": {},
   "source": [
    "print(X_train.dtypes)"
   ],
   "outputs": []
  },
  {
   "cell_type": "code",
   "execution_count": 84,
   "id": "916153b5",
   "metadata": {},
   "source": [
    "crop.head()"
   ],
   "outputs": []
  },
  {
   "cell_type": "code",
   "execution_count": 76,
   "id": "bf6a26b7",
   "metadata": {},
   "source": [
    "print(type(X_train))"
   ],
   "outputs": []
  },
  {
   "cell_type": "code",
   "execution_count": 85,
   "id": "9389ada1",
   "metadata": {
    "scrolled": true
   },
   "source": [
    " X_train"
   ],
   "outputs": []
  },
  {
   "cell_type": "code",
   "execution_count": 88,
   "id": "35757f07",
   "metadata": {},
   "source": [
    "import pandas as pd\n",
    "from sklearn.preprocessing import MinMaxScaler, OneHotEncoder\n",
    "from sklearn.compose import ColumnTransformer\n",
    "from sklearn.pipeline import Pipeline\n",
    "\n",
    "# Sample data\n",
    "data = {\n",
    "    'feature1': [1, 2, 3, 4],\n",
    "    'feature2': [5, 6, 7, 8],\n",
    "    'category': ['apple', 'orange', 'banana', 'apple']\n",
    "}\n",
    "\n",
    "# Convert to DataFrame\n",
    "crop = pd.DataFrame(data)\n",
    "\n",
    "# Separate features and target if applicable\n",
    "X = crop\n",
    "\n",
    "# Identify numeric and categorical columns\n",
    "numeric_features = ['feature1', 'feature2']\n",
    "categorical_features = ['category']\n",
    "\n",
    "# Define the transformations for each type of feature\n",
    "numeric_transformer = MinMaxScaler()\n",
    "categorical_transformer = OneHotEncoder()\n",
    "\n",
    "# Create a preprocessor with column transformers\n",
    "preprocessor = ColumnTransformer(\n",
    "    transformers=[\n",
    "        ('num', numeric_transformer, numeric_features),\n",
    "        ('cat', categorical_transformer, categorical_features)\n",
    "    ])\n",
    "\n",
    "# Fit and transform the training data\n",
    "X_preprocessed = preprocessor.fit_transform(X)\n",
    "\n",
    "# If you want to transform the test data, use the same preprocessor\n",
    "# X_test_preprocessed = preprocessor.transform(X_test)\n",
    "\n",
    "# Convert the result back to a DataFrame for easier inspection\n",
    "# Note that the result is a NumPy array, so we need to handle the column names\n",
    "num_cols = numeric_features\n",
    "cat_cols = preprocessor.named_transformers_['cat'].get_feature_names_out(categorical_features).tolist()\n",
    "all_cols = num_cols + cat_cols\n",
    "X_preprocessed_df = pd.DataFrame(X_preprocessed, columns=all_cols)\n",
    "\n",
    "print(X_preprocessed_df)\n"
   ],
   "outputs": []
  },
  {
   "cell_type": "code",
   "execution_count": 89,
   "id": "6e01a8c6",
   "metadata": {},
   "source": [
    "X_train"
   ],
   "outputs": []
  },
  {
   "cell_type": "markdown",
   "id": "5c08fa0c",
   "metadata": {},
   "source": [
    "\n",
    "# Standarization"
   ]
  },
  {
   "cell_type": "code",
   "execution_count": 91,
   "id": "26538b56",
   "metadata": {},
   "source": [
    "import pandas as pd\n",
    "from sklearn.preprocessing import MinMaxScaler, OneHotEncoder\n",
    "from sklearn.compose import ColumnTransformer\n",
    "from sklearn.pipeline import Pipeline\n",
    "from sklearn.impute import SimpleImputer\n",
    "\n",
    "# Sample data\n",
    "data_train = {\n",
    "    'feature1': [1, 2, 3, 4],\n",
    "    'feature2': [5, 6, 7, 8],\n",
    "    'category': ['apple', 'orange', 'banana', 'apple']\n",
    "}\n",
    "data_test = {\n",
    "    'feature1': [2, 3, 4, 5],\n",
    "    'feature2': [6, 7, 8, 9],\n",
    "    'category': ['banana', 'orange', 'apple', 'banana']\n",
    "}\n",
    "\n",
    "# Convert to DataFrame\n",
    "X_train = pd.DataFrame(data_train)\n",
    "X_test = pd.DataFrame(data_test)\n",
    "\n",
    "# Identify numeric and categorical columns\n",
    "numeric_features = ['feature1', 'feature2']\n",
    "categorical_features = ['category']\n",
    "\n",
    "# Define the transformations for each type of feature\n",
    "numeric_transformer = Pipeline(steps=[\n",
    "    ('imputer', SimpleImputer(strategy='mean')),  # Handle missing values if any\n",
    "    ('scaler', MinMaxScaler())\n",
    "])\n",
    "\n",
    "categorical_transformer = Pipeline(steps=[\n",
    "    ('imputer', SimpleImputer(strategy='constant', fill_value='missing')),  # Handle missing values if any\n",
    "    ('onehot', OneHotEncoder(handle_unknown='ignore'))\n",
    "])\n",
    "\n",
    "# Create a preprocessor with column transformers\n",
    "preprocessor = ColumnTransformer(\n",
    "    transformers=[\n",
    "        ('num', numeric_transformer, numeric_features),\n",
    "        ('cat', categorical_transformer, categorical_features)\n",
    "    ])\n",
    "\n",
    "# Fit and transform the training data\n",
    "X_train_preprocessed = preprocessor.fit_transform(X_train)\n",
    "\n",
    "# Transform the test data\n",
    "X_test_preprocessed = preprocessor.transform(X_test)\n",
    "\n",
    "# Convert the result back to DataFrame for easier inspection\n",
    "# Note that the result is a NumPy array, so we need to handle the column names\n",
    "num_cols = numeric_features\n",
    "cat_cols = preprocessor.named_transformers_['cat'].named_steps['onehot'].get_feature_names_out(categorical_features).tolist()\n",
    "all_cols = num_cols + cat_cols\n",
    "\n",
    "X_train_preprocessed_df = pd.DataFrame(X_train_preprocessed, columns=all_cols)\n",
    "X_test_preprocessed_df = pd.DataFrame(X_test_preprocessed, columns=all_cols)\n",
    "\n",
    "print(\"Preprocessed Training Data:\")\n",
    "print(X_train_preprocessed_df)\n",
    "print(\"\\nPreprocessed Test Data:\")\n",
    "print(X_test_preprocessed_df)\n"
   ],
   "outputs": []
  },
  {
   "cell_type": "code",
   "execution_count": 92,
   "id": "5b10d160",
   "metadata": {},
   "source": [
    "X_train"
   ],
   "outputs": []
  },
  {
   "cell_type": "markdown",
   "id": "dd834782",
   "metadata": {},
   "source": [
    "# Training Models"
   ]
  },
  {
   "cell_type": "code",
   "execution_count": 97,
   "id": "68380a9d",
   "metadata": {
    "scrolled": true
   },
   "source": [
    "import pandas as pd\n",
    "from sklearn.preprocessing import StandardScaler, OneHotEncoder\n",
    "from sklearn.compose import ColumnTransformer\n",
    "from sklearn.pipeline import Pipeline\n",
    "from sklearn.impute import SimpleImputer\n",
    "from sklearn.model_selection import train_test_split\n",
    "from sklearn.linear_model import LogisticRegression\n",
    "from sklearn.naive_bayes import GaussianNB\n",
    "from sklearn.svm import SVC\n",
    "from sklearn.neighbors import KNeighborsClassifier\n",
    "from sklearn.tree import DecisionTreeClassifier, ExtraTreeClassifier\n",
    "from sklearn.ensemble import RandomForestClassifier, BaggingClassifier, GradientBoostingClassifier, AdaBoostClassifier\n",
    "from sklearn.metrics import accuracy_score\n",
    "\n",
    "# Load your dataset\n",
    "data = pd.read_csv('Crop_recommendation.csv')\n",
    "\n",
    "# Print the columns to identify the correct target column name\n",
    "print(data.columns)\n",
    "\n",
    "# Define target column name\n",
    "target_column = 'label'  # Update this with the correct column name\n",
    "\n",
    "# Ensure the target column is categorical\n",
    "data[target_column] = data[target_column].astype('category')\n",
    "\n",
    "# Define features and labels\n",
    "X = data.drop(target_column, axis=1)\n",
    "y = data[target_column]\n",
    "\n",
    "# Split the data\n",
    "X_train, X_test, y_train, y_test = train_test_split(X, y, test_size=0.2, random_state=42)\n",
    "\n",
    "# Identify categorical and numeric columns\n",
    "categorical_cols = X.select_dtypes(include=['object']).columns\n",
    "numeric_cols = X.select_dtypes(exclude=['object']).columns\n",
    "\n",
    "# Preprocessing pipelines\n",
    "numeric_transformer = Pipeline(steps=[\n",
    "    ('imputer', SimpleImputer(strategy='median')),\n",
    "    ('scaler', StandardScaler())])\n",
    "\n",
    "categorical_transformer = Pipeline(steps=[\n",
    "    ('imputer', SimpleImputer(strategy='most_frequent')),\n",
    "    ('onehot', OneHotEncoder(handle_unknown='ignore'))])\n",
    "\n",
    "preprocessor = ColumnTransformer(\n",
    "    transformers=[\n",
    "        ('num', numeric_transformer, numeric_cols),\n",
    "        ('cat', categorical_transformer, categorical_cols)])\n",
    "\n",
    "# Fit and transform the training data, transform the test data\n",
    "X_train = preprocessor.fit_transform(X_train)\n",
    "X_test = preprocessor.transform(X_test)\n",
    "\n",
    "# Create instances of all models\n",
    "models = {\n",
    "    'Logistic Regression': LogisticRegression(max_iter=1000),\n",
    "    'Naive Bayes': GaussianNB(),\n",
    "    'Support Vector Machine': SVC(),\n",
    "    'K-Nearest Neighbors': KNeighborsClassifier(),\n",
    "    'Decision Tree': DecisionTreeClassifier(),\n",
    "    'Random Forest': RandomForestClassifier(),\n",
    "    'Bagging': BaggingClassifier(),\n",
    "    'AdaBoost': AdaBoostClassifier(),\n",
    "    'Gradient Boosting': GradientBoostingClassifier(),\n",
    "    'Extra Trees': ExtraTreeClassifier(),\n",
    "}\n",
    "\n",
    "# Fit the models and print accuracy\n",
    "for name, model in models.items():\n",
    "    model.fit(X_train, y_train)\n",
    "    y_pred = model.predict(X_test)\n",
    "    print(f\"{name} with accuracy: {accuracy_score(y_test, y_pred)}\")\n"
   ],
   "outputs": []
  },
  {
   "cell_type": "code",
   "execution_count": 98,
   "id": "128f6c08",
   "metadata": {},
   "source": [
    "rfc = RandomForestClassifier()\n",
    "rfc.fit(X_train,y_train)\n",
    "ypred = rfc.predict(X_test)\n",
    "accuracy_score(y_test,ypred)"
   ],
   "outputs": []
  },
  {
   "cell_type": "markdown",
   "id": "8bd9835e",
   "metadata": {},
   "source": [
    "# Predictive System"
   ]
  },
  {
   "cell_type": "code",
   "execution_count": 105,
   "id": "1b72a3f2",
   "metadata": {},
   "source": [
    "def recommendation(N,P,k,temperature,humidity,ph,rainfal):\n",
    "    features = np.array([[N,P,k,temperature,humidity,ph,rainfal]])\n",
    "    transformed_features = ms.fit_transform(features)\n",
    "    transformed_features = sc.fit_transform(transformed_features)\n",
    "    prediction = rfc.predict(transformed_features).reshape(1,-1)\n",
    "    \n",
    "    return prediction[0] "
   ],
   "outputs": []
  },
  {
   "cell_type": "code",
   "execution_count": 106,
   "id": "be403e95",
   "metadata": {},
   "source": [
    "import pandas as pd\n",
    "from sklearn.preprocessing import StandardScaler, OneHotEncoder\n",
    "from sklearn.compose import ColumnTransformer\n",
    "from sklearn.pipeline import Pipeline\n",
    "from sklearn.impute import SimpleImputer\n",
    "from sklearn.model_selection import train_test_split\n",
    "from sklearn.linear_model import LogisticRegression\n",
    "from sklearn.naive_bayes import GaussianNB\n",
    "from sklearn.svm import SVC\n",
    "from sklearn.neighbors import KNeighborsClassifier\n",
    "from sklearn.tree import DecisionTreeClassifier, ExtraTreeClassifier\n",
    "from sklearn.ensemble import RandomForestClassifier, BaggingClassifier, GradientBoostingClassifier, AdaBoostClassifier\n",
    "from sklearn.metrics import accuracy_score\n",
    "import joblib  # For saving and loading models\n",
    "\n",
    "class CropRecommendationSystem:\n",
    "    def __init__(self, data_path, target_column):\n",
    "        self.data_path = data_path\n",
    "        self.target_column = target_column\n",
    "        self.models = {\n",
    "            'Logistic Regression': LogisticRegression(max_iter=1000),\n",
    "            'Naive Bayes': GaussianNB(),\n",
    "            'Support Vector Machine': SVC(),\n",
    "            'K-Nearest Neighbors': KNeighborsClassifier(),\n",
    "            'Decision Tree': DecisionTreeClassifier(),\n",
    "            'Random Forest': RandomForestClassifier(),\n",
    "            'Bagging': BaggingClassifier(),\n",
    "            'AdaBoost': AdaBoostClassifier(),\n",
    "            'Gradient Boosting': GradientBoostingClassifier(),\n",
    "            'Extra Trees': ExtraTreeClassifier(),\n",
    "        }\n",
    "        self.preprocessor = None\n",
    "\n",
    "    def load_data(self):\n",
    "        data = pd.read_csv(self.data_path)\n",
    "        data[self.target_column] = data[self.target_column].astype('category')\n",
    "        X = data.drop(self.target_column, axis=1)\n",
    "        y = data[self.target_column]\n",
    "        return train_test_split(X, y, test_size=0.2, random_state=42)\n",
    "\n",
    "    def preprocess_data(self, X_train, X_test):\n",
    "        categorical_cols = X_train.select_dtypes(include=['object']).columns\n",
    "        numeric_cols = X_train.select_dtypes(exclude=['object']).columns\n",
    "\n",
    "        numeric_transformer = Pipeline(steps=[\n",
    "            ('imputer', SimpleImputer(strategy='median')),\n",
    "            ('scaler', StandardScaler())])\n",
    "\n",
    "        categorical_transformer = Pipeline(steps=[\n",
    "            ('imputer', SimpleImputer(strategy='most_frequent')),\n",
    "            ('onehot', OneHotEncoder(handle_unknown='ignore'))])\n",
    "\n",
    "        self.preprocessor = ColumnTransformer(\n",
    "            transformers=[\n",
    "                ('num', numeric_transformer, numeric_cols),\n",
    "                ('cat', categorical_transformer, categorical_cols)])\n",
    "\n",
    "        X_train = self.preprocessor.fit_transform(X_train)\n",
    "        X_test = self.preprocessor.transform(X_test)\n",
    "        return X_train, X_test\n",
    "\n",
    "    def train_models(self, X_train, y_train):\n",
    "        for name, model in self.models.items():\n",
    "            model.fit(X_train, y_train)\n",
    "            joblib.dump(model, f'{name}.pkl')  # Save the model to a file\n",
    "\n",
    "    def evaluate_models(self, X_test, y_test):\n",
    "        results = {}\n",
    "        for name, model in self.models.items():\n",
    "            loaded_model = joblib.load(f'{name}.pkl')  # Load the model from a file\n",
    "            y_pred = loaded_model.predict(X_test)\n",
    "            accuracy = accuracy_score(y_test, y_pred)\n",
    "            results[name] = accuracy\n",
    "            print(f\"{name} with accuracy: {accuracy}\")\n",
    "        return results\n",
    "\n",
    "    def predict(self, X_new):\n",
    "        X_new = self.preprocessor.transform(X_new)\n",
    "        predictions = {}\n",
    "        for name, model in self.models.items():\n",
    "            loaded_model = joblib.load(f'{name}.pkl')\n",
    "            predictions[name] = loaded_model.predict(X_new)\n",
    "        return predictions\n",
    "\n",
    "# Usage example\n",
    "data_path = 'Crop_recommendation.csv'\n",
    "target_column = 'label'\n",
    "\n",
    "system = CropRecommendationSystem(data_path, target_column)\n",
    "X_train, X_test, y_train, y_test = system.load_data()\n",
    "X_train, X_test = system.preprocess_data(X_train, X_test)\n",
    "system.train_models(X_train, y_train)\n",
    "results = system.evaluate_models(X_test, y_test)\n",
    "\n",
    "# Predict on new data (example)\n",
    "X_new = pd.DataFrame([{'N': 90, 'P': 42, 'K': 43, 'temperature': 20.87, 'humidity': 82.00, 'ph': 6.5, 'rainfall': 202.93}])\n",
    "predictions = system.predict(X_new)\n",
    "print(predictions)\n"
   ],
   "outputs": []
  },
  {
   "cell_type": "code",
   "execution_count": null,
   "id": "c6063f13",
   "metadata": {},
   "source": [],
   "outputs": []
  },
  {
   "cell_type": "code",
   "execution_count": 111,
   "id": "08a6fef3",
   "metadata": {},
   "source": [
    "import pickle\n",
    "pickle.dump(rfc,open('model.pkl','wb'))\n",
    "pickle.dump(ms,open('minmaxscaler.pkl','wb'))\n",
    "pickle.dump(sc,open('standscaler.pkl','wb'))"
   ],
   "outputs": []
  },
  {
   "cell_type": "code",
   "execution_count": 114,
   "id": "32525414",
   "metadata": {},
   "source": [
    "# Example input features\n",
    "input_features = {\n",
    "    'N': 90,\n",
    "    'P': 42,\n",
    "    'K': 43,\n",
    "    'temperature': 20.87,\n",
    "    'humidity': 82.00,\n",
    "    'ph': 6.8,\n",
    "    'rainfall': 202.93\n",
    "}\n",
    "\n",
    "# Predict the best crop\n",
    "predicted_crop = predict_crop(input_features)\n",
    "print(f\"Predicted crop: {predicted_crop}\")\n"
   ],
   "outputs": []
  },
  {
   "cell_type": "code",
   "execution_count": 115,
   "id": "c7f43608",
   "metadata": {},
   "source": [
    "import pandas as pd\n",
    "from sklearn.preprocessing import StandardScaler, OneHotEncoder\n",
    "from sklearn.compose import ColumnTransformer\n",
    "from sklearn.pipeline import Pipeline\n",
    "from sklearn.impute import SimpleImputer\n",
    "from sklearn.model_selection import train_test_split\n",
    "from sklearn.linear_model import LogisticRegression\n",
    "from sklearn.naive_bayes import GaussianNB\n",
    "from sklearn.svm import SVC\n",
    "from sklearn.neighbors import KNeighborsClassifier\n",
    "from sklearn.tree import DecisionTreeClassifier, ExtraTreeClassifier\n",
    "from sklearn.ensemble import RandomForestClassifier, BaggingClassifier, GradientBoostingClassifier, AdaBoostClassifier\n",
    "from sklearn.metrics import accuracy_score\n",
    "\n",
    "# Load your dataset\n",
    "data = pd.read_csv('Crop_recommendation.csv')\n",
    "\n",
    "# Print the columns to identify the correct target column name\n",
    "print(data.columns)\n",
    "\n",
    "# Define target column name\n",
    "target_column = 'label'  # Update this with the correct column name\n",
    "\n",
    "# Ensure the target column is categorical\n",
    "data[target_column] = data[target_column].astype('category')\n",
    "\n",
    "# Define features and labels\n",
    "X = data.drop(target_column, axis=1)\n",
    "y = data[target_column]\n",
    "\n",
    "# Split the data\n",
    "X_train, X_test, y_train, y_test = train_test_split(X, y, test_size=0.2, random_state=42)\n",
    "\n",
    "# Identify categorical and numeric columns\n",
    "categorical_cols = X.select_dtypes(include=['object']).columns\n",
    "numeric_cols = X.select_dtypes(exclude=['object']).columns\n",
    "\n",
    "# Preprocessing pipelines\n",
    "numeric_transformer = Pipeline(steps=[\n",
    "    ('imputer', SimpleImputer(strategy='median')),\n",
    "    ('scaler', StandardScaler())])\n",
    "\n",
    "categorical_transformer = Pipeline(steps=[\n",
    "    ('imputer', SimpleImputer(strategy='most_frequent')),\n",
    "    ('onehot', OneHotEncoder(handle_unknown='ignore'))])\n",
    "\n",
    "preprocessor = ColumnTransformer(\n",
    "    transformers=[\n",
    "        ('num', numeric_transformer, numeric_cols),\n",
    "        ('cat', categorical_transformer, categorical_cols)])\n",
    "\n",
    "# Fit and transform the training data, transform the test data\n",
    "X_train = preprocessor.fit_transform(X_train)\n",
    "X_test = preprocessor.transform(X_test)\n",
    "\n",
    "# Create instances of all models\n",
    "models = {\n",
    "    'Logistic Regression': LogisticRegression(max_iter=1000),\n",
    "    'Naive Bayes': GaussianNB(),\n",
    "    'Support Vector Machine': SVC(),\n",
    "    'K-Nearest Neighbors': KNeighborsClassifier(),\n",
    "    'Decision Tree': DecisionTreeClassifier(),\n",
    "    'Random Forest': RandomForestClassifier(),\n",
    "    'Bagging': BaggingClassifier(),\n",
    "    'AdaBoost': AdaBoostClassifier(),\n",
    "    'Gradient Boosting': GradientBoostingClassifier(),\n",
    "    'Extra Trees': ExtraTreeClassifier(),\n",
    "}\n",
    "\n",
    "# Fit the models and print accuracy, store the best model\n",
    "best_model = None\n",
    "best_accuracy = 0\n",
    "for name, model in models.items():\n",
    "    model.fit(X_train, y_train)\n",
    "    y_pred = model.predict(X_test)\n",
    "    accuracy = accuracy_score(y_test, y_pred)\n",
    "    print(f\"{name} with accuracy: {accuracy}\")\n",
    "    if accuracy > best_accuracy:\n",
    "        best_accuracy = accuracy\n",
    "        best_model = model\n",
    "\n",
    "print(f\"Best model: {best_model} with accuracy: {best_accuracy}\")\n",
    "\n",
    "# Function to make predictions with the best model\n",
    "def predict_crop(input_features):\n",
    "    # Create a DataFrame for the input features\n",
    "    input_df = pd.DataFrame([input_features])\n",
    "    \n",
    "    # Preprocess the input features\n",
    "    input_preprocessed = preprocessor.transform(input_df)\n",
    "    \n",
    "    # Predict using the best model\n",
    "    prediction = best_model.predict(input_preprocessed)\n",
    "    \n",
    "    return prediction[0]\n",
    "\n",
    "# Example input features\n",
    "input_features = {\n",
    "    'N': 90,\n",
    "    'P': 42,\n",
    "    'K': 43,\n",
    "    'temperature': 20.87,\n",
    "    'humidity': 82.00,\n",
    "    'ph': 6.8,\n",
    "    'rainfall': 202.93\n",
    "}\n",
    "\n",
    "# Predict the best crop\n",
    "predicted_crop = predict_crop(input_features)\n",
    "print(f\"Predicted crop: {predicted_crop}\")\n"
   ],
   "outputs": []
  },
  {
   "cell_type": "code",
   "execution_count": null,
   "id": "034003d6",
   "metadata": {},
   "source": [],
   "outputs": []
  },
  {
   "cell_type": "code",
   "execution_count": null,
   "id": "2e3586d0",
   "metadata": {},
   "source": [],
   "outputs": []
  },
  {
   "cell_type": "code",
   "execution_count": null,
   "id": "065611a3",
   "metadata": {},
   "source": [],
   "outputs": []
  },
  {
   "cell_type": "code",
   "execution_count": null,
   "id": "032f845a",
   "metadata": {},
   "source": [],
   "outputs": []
  },
  {
   "cell_type": "code",
   "execution_count": null,
   "id": "05e93ab9",
   "metadata": {},
   "source": [],
   "outputs": []
  }
 ],
 "metadata": {
  "kernelspec": {
   "display_name": "Python 3 (ipykernel)",
   "language": "python",
   "name": "python3"
  },
  "language_info": {
   "codemirror_mode": {
    "name": "ipython",
    "version": 3
   },
   "file_extension": ".py",
   "mimetype": "text/x-python",
   "name": "python",
   "nbconvert_exporter": "python",
   "pygments_lexer": "ipython3",
   "version": "3.11.5"
  }
 },
 "nbformat": 4,
 "nbformat_minor": 5
}
